{
 "cells": [
  {
   "cell_type": "code",
   "execution_count": null,
   "id": "da6f4ec0-b795-4b38-8702-ab9fc4d1d0c2",
   "metadata": {},
   "outputs": [],
   "source": [
    "# Train and evaluate Logistic Regression"
   ]
  },
  {
   "cell_type": "code",
   "execution_count": null,
   "id": "7d5abf9d-827b-4f36-b50a-d7785f1d2740",
   "metadata": {},
   "outputs": [],
   "source": [
    "from sklearn.linear_model import LogisticRegression\n",
    "from sklearn.metrics import accuracy_score, roc_auc_score, recall_score, precision_score, f1_score #recall = sensitivity\n",
    "\n",
    "# Train the first log regression model on ngram = (1,2)\n",
    "is_pol_log_reg_12 = LogisticRegression(penalty='l1', solver='liblinear')\n",
    "is_pol_log_reg_12.fit(X_train_12, labels_train)\n",
    "\n",
    "# Train the second log regression model on ngram = (2,3)\n",
    "is_pol_log_reg_23 = LogisticRegression(penalty='l1', solver='liblinear')\n",
    "is_pol_log_reg_23.fit(X_train_23, labels_train)\n",
    "\n",
    "# Train three logistic regression models on tf-idf \n",
    "# raw\n",
    "is_pol_log_reg_tfidf = LogisticRegression(penalty='l1', solver='liblinear')\n",
    "is_pol_log_reg_tfidf.fit(X_train_tfidf, labels_train)\n",
    "\n",
    "# ngrams = (1,2)\n",
    "is_pol_log_reg_tfidf_12 = LogisticRegression(penalty='l1', solver='liblinear')\n",
    "is_pol_log_reg_tfidf_12.fit(X_train_tfidf_12, labels_train)\n",
    "\n",
    "# ngrams = (2,3)\n",
    "is_pol_log_reg_tfidf_23 = LogisticRegression(penalty='l1', solver='liblinear')\n",
    "is_pol_log_reg_tfidf_23.fit(X_train_tfidf_23, labels_train)\n",
    "\n",
    "'''\n",
    "Validation:\n",
    "'''\n",
    "# ngrams alone:\n",
    "y_dev_pred_12 = is_pol_log_reg_12.predict(X_dev_12)\n",
    "y_dev_pred_23 = is_pol_log_reg_23.predict(X_dev_23)\n",
    "\n",
    "# tf-idf:\n",
    "y_dev_pred_tfidf = is_pol_log_reg_tfidf.predict(X_dev_tfidf)\n",
    "y_dev_pred_tfidf_12 = is_pol_log_reg_tfidf_12.predict(X_dev_tfidf_12) \n",
    "y_dev_pred_tfidf_23 = is_pol_log_reg_tfidf_23.predict(X_dev_tfidf_23)\n",
    "\n",
    "# Accuracy\n",
    "acc_12 = accuracy_score(labels_dev, y_dev_pred_12)\n",
    "acc_23 = accuracy_score(labels_dev, y_dev_pred_23)\n",
    "acc_tfidf = accuracy_score(labels_dev, y_dev_pred_tfidf)\n",
    "acc_tfidf_12 = accuracy_score(labels_dev, y_dev_pred_tfidf_12)\n",
    "acc_tfidf_23 = accuracy_score(labels_dev, y_dev_pred_tfidf_23)\n",
    "\n",
    "# Compute AUROC based on predicted probabilities rather than predicted class labels\n",
    "y_dev_pred_prob_12 = is_pol_log_reg_12.predict_proba(X_dev_12)\n",
    "y_dev_pred_prob_23 = is_pol_log_reg_23.predict_proba(X_dev_23)\n",
    "\n",
    "auroc_12 = roc_auc_score(labels_dev, y_dev_pred_prob_12[:, 1])\n",
    "auroc_23 = roc_auc_score(labels_dev, y_dev_pred_prob_23[:, 1])\n",
    "\n",
    "# F1 score\n",
    "f1_12 = f1_score(labels_dev, y_dev_pred_12)\n",
    "f1_23 = f1_score(labels_dev, y_dev_pred_23)\n",
    "\n",
    "# Sensitivity (recall)\n",
    "sensitivity_12 = recall_score(labels_dev, y_dev_pred_12)\n",
    "sensitivity_23 = recall_score(labels_dev, y_dev_pred_23)\n",
    "\n",
    "# Specificity\n",
    "tn, fp, fn, tp = confusion_matrix(labels_dev, y_dev_pred_12).ravel()\n",
    "specificity_12 = tn / (tn+fp)\n",
    "\n",
    "tn, fp, fn, tp = confusion_matrix(labels_dev, y_dev_pred_23).ravel()\n",
    "specificity_23 = tn / (tn+fp)\n",
    "\n",
    "log_reg_val_table = PrettyTable([\"Classifier Name\", \"Accuracy\", \"AUROC\", \"F1\", \"Sensitivity (Recall)\", \"Specificity\"])\n",
    "log_reg_val_table.add_row([\"Logistic regresion on ngrams=(1,2)\", acc_12, auroc_12, f1_12, sensitivity_12, specificity_12]) \n",
    "log_reg_val_table.add_row([\"Logistic regresion on ngrams=(2,3)\", acc_23, auroc_23, f1_23, sensitivity_23, specificity_23])\n",
    "log_reg_val_table.add_row(['Log regression on tfidf raw', acc_tfidf, 1, 1, 1, 1])\n",
    "log_reg_val_table"
   ]
  },
  {
   "cell_type": "code",
   "execution_count": 3,
   "id": "a33996fe-0088-460e-843f-cb8e4faf92d9",
   "metadata": {},
   "outputs": [
    {
     "name": "stdout",
     "output_type": "stream",
     "text": [
      "no stored variable or alias x_train_pol\n"
     ]
    }
   ],
   "source": [
    "%store -r x_train_pol"
   ]
  }
 ],
 "metadata": {
  "kernelspec": {
   "display_name": "Python 3 (ipykernel)",
   "language": "python",
   "name": "python3"
  },
  "language_info": {
   "codemirror_mode": {
    "name": "ipython",
    "version": 3
   },
   "file_extension": ".py",
   "mimetype": "text/x-python",
   "name": "python",
   "nbconvert_exporter": "python",
   "pygments_lexer": "ipython3",
   "version": "3.11.5"
  }
 },
 "nbformat": 4,
 "nbformat_minor": 5
}
